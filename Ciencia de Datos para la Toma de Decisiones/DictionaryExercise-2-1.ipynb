{
 "cells": [
  {
   "cell_type": "markdown",
   "id": "27370f01-c5e1-41e0-9b68-250eaed4c03e",
   "metadata": {},
   "source": [
    "These are the exercises for the article [Python Dictionaries for Beginners:  A Complete Lesson With Exercises](https://codesolid.com/python-dictionaries-with-exercises)"
   ]
  },
  {
   "cell_type": "markdown",
   "id": "1a82921e-f36f-4b46-a9eb-cc34f6282b41",
   "metadata": {},
   "source": [
    "**1.** When should you prefer a dictionary over a list?  What advantages does it have?"
   ]
  },
  {
   "cell_type": "markdown",
   "id": "d97860d3-cb4f-430b-962d-09235a33f702",
   "metadata": {},
   "source": []
  },
  {
   "cell_type": "markdown",
   "id": "87c8b0b8-abcd-44fb-9901-f98ece18c9d0",
   "metadata": {},
   "source": [
    "**2.** Given the following elements and their symbols, create a dictionary that allows you to look up the symbol given the element name as a key. Assume the element name and symbol names have the cases as shown.  Name the dictionary \"elements\".\n",
    "\n",
    "* Hydrogen H\n",
    "* Bismuth Bi\n",
    "* Iron Fe\n",
    "* Carbon C\n",
    "* Silicon Si\n",
    "* Helium He\n"
   ]
  },
  {
   "cell_type": "code",
   "execution_count": 1,
   "id": "ee63bb60-21e6-4d5d-98fb-43377338079d",
   "metadata": {},
   "outputs": [],
   "source": [
    "elements = {'Hydrogen': 'H', 'Bismuth': 'Bi', 'Iron': 'Fe', 'Carbon': 'C', 'Silicon': 'Si', 'Helium':'He'}"
   ]
  },
  {
   "cell_type": "markdown",
   "id": "34a4a890-97bd-4e22-925c-20967fcb1a28",
   "metadata": {},
   "source": [
    "**3.** Write a for loop that loops over the elements dictionary you created in exercise 2, above.  Print each item as \"Symbol => Name\" on a single line,"
   ]
  },
  {
   "cell_type": "code",
   "execution_count": 3,
   "id": "7d8052b6-1628-40c5-9db7-173417551061",
   "metadata": {},
   "outputs": [
    {
     "name": "stdout",
     "output_type": "stream",
     "text": [
      "H => Hydrogen\n",
      "Bi => Bismuth\n",
      "Fe => Iron\n",
      "C => Carbon\n",
      "Si => Silicon\n",
      "He => Helium\n"
     ]
    }
   ],
   "source": [
    "for name, symbol in elements.items():\n",
    "    print(f'{symbol} => {name}')"
   ]
  },
  {
   "cell_type": "markdown",
   "id": "29e293d8-ac8c-417a-876e-b456a48ae57f",
   "metadata": {},
   "source": [
    "**4.** Assuming the elements dictionary is in scope (declared globally for example, or you can add it to the function), write a function that takes an element name and returns the symbol name.  If the element name is not found, return the string \"NOT FOUND\"."
   ]
  },
  {
   "cell_type": "code",
   "execution_count": 15,
   "id": "11faf8b1-75a3-4fb9-9273-be4864cecb60",
   "metadata": {},
   "outputs": [
    {
     "name": "stdout",
     "output_type": "stream",
     "text": [
      "Iron => Fe\n",
      "NOT FOUND\n"
     ]
    }
   ],
   "source": [
    "def find_symbol(element: str):\n",
    "    if element in elements:\n",
    "        print(element,'=>',elements[element])\n",
    "    else:\n",
    "        print('NOT FOUND')\n",
    "find_symbol('Iron')\n",
    "find_symbol('Magnesium')"
   ]
  },
  {
   "cell_type": "markdown",
   "id": "a8bf4eda-04ec-430f-b9d9-8729b8444041",
   "metadata": {},
   "source": [
    "**5.** Add the following elements and their symbols to the elements table.\n",
    "\n",
    "* Oxygen O\n",
    "* Sodium Na\n",
    "* Zinc Zn"
   ]
  },
  {
   "cell_type": "code",
   "execution_count": 17,
   "id": "0829919b-6f70-43cf-8294-af5629ad37e9",
   "metadata": {},
   "outputs": [
    {
     "data": {
      "text/plain": [
       "{'Hydrogen': 'H',\n",
       " 'Bismuth': 'Bi',\n",
       " 'Iron': 'Fe',\n",
       " 'Carbon': 'C',\n",
       " 'Silicon': 'Si',\n",
       " 'Helium': 'He',\n",
       " 'Oxygen': 'O',\n",
       " 'Sodium': 'Na',\n",
       " 'Zinc': 'Zn'}"
      ]
     },
     "execution_count": 17,
     "metadata": {},
     "output_type": "execute_result"
    }
   ],
   "source": [
    "elements['Oxygen'] = 'O'\n",
    "elements['Sodium'] = 'Na'\n",
    "elements['Zinc'] = 'Zn'\n",
    "elements"
   ]
  },
  {
   "cell_type": "markdown",
   "id": "3dfc09cd-6bd4-4119-b47d-da6c24cbf2e0",
   "metadata": {},
   "source": [
    "**6.** The elements table allows you to look up symbols, given an element name.  How could you create a dictionary that would allow you to look up the element name, given a symbol name?"
   ]
  },
  {
   "cell_type": "raw",
   "id": "115b03b5",
   "metadata": {},
   "source": [
    "You can create a complete new dictionary that switches its keys and values, which in this case would change the name and the symbol."
   ]
  },
  {
   "cell_type": "markdown",
   "id": "d0eadcc2-bdfa-4d25-b49d-4f79932c4e77",
   "metadata": {},
   "source": [
    "**7.** Write the code to create a dictionary named \"squares\".  Each key should be a number between one and ten, and each value should be the square of the number."
   ]
  },
  {
   "cell_type": "code",
   "execution_count": 18,
   "id": "a4a5d709-d255-488d-bff1-605bf2bccefc",
   "metadata": {},
   "outputs": [
    {
     "data": {
      "text/plain": [
       "25"
      ]
     },
     "execution_count": 18,
     "metadata": {},
     "output_type": "execute_result"
    }
   ],
   "source": [
    "squares = {1:1,2:4,3:9,4:16,5:25,6:36,7:49,8:64,9:81,10:100}\n",
    "squares[5]"
   ]
  },
  {
   "cell_type": "markdown",
   "id": "0096e61c-6c9f-456f-8e6a-cafa75f45628",
   "metadata": {},
   "source": [
    "**8.** What is wrong with the following code?  You can run it if you need to in order to refresh your memory about this topic:\n",
    "```\n",
    "grades = {[99, 95]: \"Kalea\", [85, 100]: \"Antoine\"}\n",
    "grades\n",
    "```"
   ]
  },
  {
   "cell_type": "raw",
   "id": "9159a87a",
   "metadata": {},
   "source": [
    "You can't have a list as a key object in a dictionary, only as values"
   ]
  }
 ],
 "metadata": {
  "kernelspec": {
   "display_name": "Python 3 (ipykernel)",
   "language": "python",
   "name": "python3"
  },
  "language_info": {
   "codemirror_mode": {
    "name": "ipython",
    "version": 3
   },
   "file_extension": ".py",
   "mimetype": "text/x-python",
   "name": "python",
   "nbconvert_exporter": "python",
   "pygments_lexer": "ipython3",
   "version": "3.9.12"
  }
 },
 "nbformat": 4,
 "nbformat_minor": 5
}
